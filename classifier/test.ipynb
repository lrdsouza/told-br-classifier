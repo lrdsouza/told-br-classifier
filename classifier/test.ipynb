{
 "cells": [
  {
   "cell_type": "code",
   "execution_count": 1,
   "id": "ddb772f9",
   "metadata": {},
   "outputs": [],
   "source": [
    "import re\n",
    "import os\n",
    "import tqdm\n",
    "import torch\n",
    "import warnings\n",
    "import numpy as np\n",
    "import pandas as pd\n",
    "from transformers import pipeline\n",
    "from transformers import AutoTokenizer\n",
    "from transformers import AutoModelForSequenceClassification\n",
    "\n",
    "warnings.filterwarnings('ignore')"
   ]
  },
  {
   "cell_type": "code",
   "execution_count": 2,
   "id": "ae1e8702",
   "metadata": {},
   "outputs": [],
   "source": [
    "os.environ[\"DISABLE_MLFLOW_INTEGRATION\"] = \"TRUE\"\n",
    "os.environ[\"WANDB_DISABLED\"] = \"TRUE\""
   ]
  },
  {
   "cell_type": "markdown",
   "id": "9d8cffe0",
   "metadata": {},
   "source": [
    "### Read NER Dataset"
   ]
  },
  {
   "cell_type": "code",
   "execution_count": 3,
   "id": "8198edff",
   "metadata": {},
   "outputs": [],
   "source": [
    "file_path = '../datasets/test.csv'\n",
    "data = pd.read_csv(file_path)"
   ]
  },
  {
   "cell_type": "markdown",
   "id": "93625311",
   "metadata": {},
   "source": [
    "### Clear Text"
   ]
  },
  {
   "cell_type": "code",
   "execution_count": 4,
   "id": "25b090ca",
   "metadata": {},
   "outputs": [],
   "source": [
    "def Clear(text):\n",
    "    text = text.replace('rt @user', '')\n",
    "    text = text.replace('@user', '')\n",
    "    pattern = re.compile('[^a-zA-Z0-9\\sáéíóúàèìòùâêîôûãõçÁÉÍÓÚÀÈÌÒÙÂÊÎÔÛÃÕÇ]')\n",
    "    text = re.sub(r'http\\S+', '', text)\n",
    "    text = pattern.sub(r' ', text)\n",
    "    text = text.replace('\\n', ' ')\n",
    "    text = ' '.join(text.split())\n",
    "    return text"
   ]
  },
  {
   "cell_type": "code",
   "execution_count": 5,
   "id": "55a0f3ee",
   "metadata": {},
   "outputs": [],
   "source": [
    "data['text'] = data.text.apply(lambda x: Clear(x))"
   ]
  },
  {
   "cell_type": "markdown",
   "id": "64db8d98",
   "metadata": {},
   "source": [
    "### Load Model"
   ]
  },
  {
   "cell_type": "code",
   "execution_count": 6,
   "id": "daf8d90d",
   "metadata": {},
   "outputs": [],
   "source": [
    "model_name = './finetuned/'\n",
    "model = AutoModelForSequenceClassification.from_pretrained(model_name, num_labels=2)\n",
    "tokenizer = AutoTokenizer.from_pretrained(model_name)"
   ]
  },
  {
   "cell_type": "markdown",
   "id": "30792d33",
   "metadata": {},
   "source": [
    "### Predict"
   ]
  },
  {
   "cell_type": "code",
   "execution_count": 7,
   "id": "e5c5cb0d",
   "metadata": {},
   "outputs": [],
   "source": [
    "pipe = pipeline('text-classification', model=model, tokenizer=tokenizer, device=0)"
   ]
  },
  {
   "cell_type": "code",
   "execution_count": 8,
   "id": "412de0cb",
   "metadata": {},
   "outputs": [
    {
     "name": "stderr",
     "output_type": "stream",
     "text": [
      "100%|██████████| 4200/4200 [00:47<00:00, 88.66it/s]\n"
     ]
    }
   ],
   "source": [
    "results = []\n",
    "for item in tqdm.tqdm(data.text):\n",
    "    x = pipe(item)\n",
    "    x = x[0]['label']\n",
    "    x = x.replace('LABEL_', '')\n",
    "    results.append(int(x))"
   ]
  },
  {
   "cell_type": "code",
   "execution_count": 9,
   "id": "d5dccd71",
   "metadata": {},
   "outputs": [],
   "source": [
    "data['label'] = results"
   ]
  },
  {
   "cell_type": "code",
   "execution_count": 10,
   "id": "eb064333",
   "metadata": {},
   "outputs": [],
   "source": [
    "data = data[['label']] "
   ]
  },
  {
   "cell_type": "code",
   "execution_count": 11,
   "id": "597d54b8",
   "metadata": {},
   "outputs": [],
   "source": [
    "data['id'] = data.index"
   ]
  },
  {
   "cell_type": "code",
   "execution_count": 12,
   "id": "9d00992e",
   "metadata": {},
   "outputs": [],
   "source": [
    "data = data[['id','label']]"
   ]
  },
  {
   "cell_type": "code",
   "execution_count": 13,
   "id": "d6b376e2",
   "metadata": {},
   "outputs": [],
   "source": [
    "data.to_csv('submission.csv', index=False)"
   ]
  },
  {
   "cell_type": "code",
   "execution_count": null,
   "id": "6eccfdbf",
   "metadata": {},
   "outputs": [],
   "source": []
  }
 ],
 "metadata": {
  "kernelspec": {
   "display_name": "Python 3",
   "language": "python",
   "name": "python3"
  },
  "language_info": {
   "codemirror_mode": {
    "name": "ipython",
    "version": 3
   },
   "file_extension": ".py",
   "mimetype": "text/x-python",
   "name": "python",
   "nbconvert_exporter": "python",
   "pygments_lexer": "ipython3",
   "version": "3.8.10"
  }
 },
 "nbformat": 4,
 "nbformat_minor": 5
}
